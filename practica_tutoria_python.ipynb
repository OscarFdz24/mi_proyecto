{
 "cells": [
  {
   "cell_type": "markdown",
   "id": "b2f20b9d",
   "metadata": {},
   "source": [
    "# Práctica — Markdown, PEPs y Proyecto Python\n",
    "\n",
    "**Objetivo:** sesión práctica de ~3 horas. Uso de distintas variables en Python, impresión de información, entrada de datos, operaciones básicas y comprensión de buenas prácticas (PEPs).\n",
    "\n",
    "---"
   ]
  },
  {
   "cell_type": "code",
   "execution_count": null,
   "id": "ba65db52-950a-4830-b62f-af6f81fad048",
   "metadata": {
    "scrolled": true
   },
   "outputs": [],
   "source": [
    "python -m notebook\n",
    "\n",
    "si no lo tienes instalado: pip install notebook"
   ]
  },
  {
   "cell_type": "markdown",
   "id": "61d8d7ef",
   "metadata": {},
   "source": [
    "## Índice\n",
    "\n",
    "1. Ejercicios de Markdown (20 min)\n",
    "2. Variables, tipos y operaciones (20 min)\n",
    "3. Cadenas de texto (30 min)\n",
    "4. Listas y diccionarios (30 min)\n",
    "5. Retos y ejercicios adicionales (20 min)\n",
    "6. Cierre y recursos (10 min)\n"
   ]
  },
  {
   "cell_type": "markdown",
   "id": "6e7a2161",
   "metadata": {},
   "source": [
    "### Ejercicios Git\n",
    "\n",
    "1. Crea un repositorio público en GitHub\n",
    "2. Entra en https://github.com/new\n",
    "3. Asigna un nombre (por ejemplo, mi_proyecto)\n",
    "4. Selecciona Public\n",
    "5. No es necesario añadir archivos README o .gitignore todavía (los crearás tú localmente)\n",
    "6. Haz clic en Create repository\n",
    "7. Abre una terminal en tu ordenador (Git Bash)\n",
    "8. Crea una carpeta llamada mi_proyecto\n",
    "9. Dentro de la carpeta, crea los siguientes archivos vacíos:\n",
    "    - touch README.md\n",
    "    - touch main.py\n",
    "    - touch requirements.txt\n",
    "\n",
    "### Cambios\n",
    "10. Inicializa un repositorio Git local: git init\n",
    "11. Renombra la rama principal a main: git branch -M main\n",
    "12. Añade los archivos al control de versiones: git add .\n",
    "13. Haz tu primer commit\n",
    "14. Sube los cambios al repositorio remoto: git push -u origin main"
   ]
  },
  {
   "cell_type": "markdown",
   "id": "950afe87",
   "metadata": {},
   "source": [
    "### Siguientes pasos:\n",
    "\n",
    "1. Abre el archivo README.md (puedes hacerlo desde VS Code o con un editor de texto).\n",
    "2.  Escribe dentro el contenido del ejercicio 1.1\n",
    "\n",
    "\n",
    "\n"
   ]
  },
  {
   "cell_type": "code",
   "execution_count": 13,
   "id": "5f77e26f-a26a-4dd7-9991-8997a3fcb9ed",
   "metadata": {},
   "outputs": [],
   "source": [
    "$ echo \"# Ejercicio 2\" >> README.md\n",
    "$ cat README.md\n",
    "# Ejercicio 2\n",
    "# Ejercicio 2\n",
    "\n",
    "/Evolve/Python tutoria/test/mi_proyecto (main)\n",
    "$ sed -i '2d' README.md\n",
    "\n",
    "/Evolve/Python tutoria/test/mi_proyecto (main)\n",
    "$ cat README.md\n",
    "# Ejercicio 2"
   ]
  },
  {
   "cell_type": "markdown",
   "id": "9c653a21",
   "metadata": {},
   "source": [
    "## 1) Ejercicios de Markdown\n",
    "\n",
    "Objetivo: familiarizarse con las celdas de tipo texto."
   ]
  },
  {
   "cell_type": "markdown",
   "id": "b8e1af90",
   "metadata": {},
   "source": [
    "### **Ejercicio 1.1 — Títulos y formato**\n",
    "\n",
    "Escribe en una celda de texto:\n",
    "\n",
    "* Un título de nivel 1 con tu nombre.\n",
    "* Un subtítulo de nivel 2 con la fecha de hoy.\n",
    "* Una palabra en negrita, otra en cursiva y una combinada negrita y cursiva.\n"
   ]
  },
  {
   "cell_type": "markdown",
   "id": "7a35d33b",
   "metadata": {},
   "source": [
    "# Oscar Fernandez\n",
    "## 24/10/2025\n",
    "**negrita** _en cursiva_  ___combinada___"
   ]
  },
  {
   "cell_type": "markdown",
   "id": "6ec52121",
   "metadata": {},
   "source": [
    "#### SOLUCION"
   ]
  },
  {
   "cell_type": "markdown",
   "id": "c5259351-95a9-4f60-9e7e-d7658a78c689",
   "metadata": {},
   "source": [
    "# Paula Guijarro ...\n",
    "## 24/10/2025\n",
    "**Inicio del curso** *18:00* ***fundamentos de Python***"
   ]
  },
  {
   "cell_type": "markdown",
   "id": "0080fe3a",
   "metadata": {},
   "source": [
    "<!-- # Mi primer Notebook en Jupyter\n",
    "## Datos personales\n",
    "\n",
    "**Nombre:** Ana García  \n",
    "*Ciudad:* Sevilla  \n",
    "***Profesión:*** estudiante de IA\n",
    "\n",
    "> “Simple is better than complex.” — *The Zen of Python* -->\n"
   ]
  },
  {
   "cell_type": "markdown",
   "id": "2eb8d332",
   "metadata": {},
   "source": [
    "### **Ejercicio 1.2 — Listas y numeración**\n",
    "\n",
    "Crea:\n",
    "\n",
    "* Una lista no numerada con tus tres comidas favoritas.\n",
    "* Una lista numerada con los pasos de tu rutina matutina.\n",
    "* Una lista anidada con tus aficiones principales y subaficiones."
   ]
  },
  {
   "cell_type": "markdown",
   "id": "7ef6cf1a",
   "metadata": {},
   "source": [
    "# Lista no enumerada\n",
    "* Alistas de pollo\n",
    "    * Con salsa\n",
    "* Pasta carbonara\n",
    "* Ensalada mixta"
   ]
  },
  {
   "cell_type": "markdown",
   "id": "9a064a12",
   "metadata": {},
   "source": [
    "# Lista enumerada\n",
    "1. Levantarme de la cama\n",
    "2. Ducharme\n",
    "3. Desayunar\n"
   ]
  },
  {
   "cell_type": "markdown",
   "id": "b475d023",
   "metadata": {},
   "source": [
    "# Lista anidada\n",
    "* La primera\n",
    "    * Anidada\n",
    "        * Anidada 2\n",
    "* La segunda"
   ]
  },
  {
   "cell_type": "markdown",
   "id": "9b4a45ef",
   "metadata": {
    "jp-MarkdownHeadingCollapsed": true
   },
   "source": [
    "#### SOLUCION"
   ]
  },
  {
   "cell_type": "markdown",
   "id": "20ed36c5",
   "metadata": {},
   "source": [
    "- Comidas favoritas:\n",
    "  - Pizza\n",
    "  - Sushi\n",
    "  - Ensalada\n",
    "\n",
    "1. Encender el ordenador\n",
    "2. Iniciar sesión\n",
    "3. Abrir Jupyter Notebook\n",
    "\n",
    "- Hobbies:\n",
    "  - Música\n",
    "    - Guitarra\n",
    "    - Canto\n",
    "  - Deporte\n",
    "    - Correr\n",
    "    - Senderismo\n"
   ]
  },
  {
   "cell_type": "markdown",
   "id": "1aa8fa2e",
   "metadata": {},
   "source": [
    "### **Ejercicio 1.3 — Enlaces, imágenes y tablas**\n",
    "\n",
    "* Inserta un enlace al PEP-8\n",
    "\n",
    "* Inserta una imagen (puede ser un meme o la del “space cat”).\n",
    "\n",
    "* Crea una tabla con tus datos:"
   ]
  },
  {
   "cell_type": "code",
   "execution_count": null,
   "id": "3e076d71-2298-4a53-b2d9-08caf686a8dc",
   "metadata": {},
   "outputs": [],
   "source": []
  },
  {
   "cell_type": "markdown",
   "id": "58b9e435",
   "metadata": {
    "jp-MarkdownHeadingCollapsed": true
   },
   "source": [
    "#### SOLUCION"
   ]
  },
  {
   "cell_type": "markdown",
   "id": "17ed39bd",
   "metadata": {},
   "source": [
    "[PEP-8: Guía de estilo en Python](https://peps.python.org/pep-0008/)\n",
    "\n",
    "![Logo de Python](https://www.python.org/static/community_logos/python-logo.png)\n",
    "\n",
    "| Nombre | Ciudad | Afición     |\n",
    "|--------|--------|-------------|\n",
    "| Ana    | Sevilla | Leer libros |\n",
    "| Luis   | Málaga  | Montar en bici |\n"
   ]
  },
  {
   "cell_type": "code",
   "execution_count": null,
   "id": "9f4a3bd8",
   "metadata": {},
   "outputs": [],
   "source": []
  },
  {
   "cell_type": "markdown",
   "id": "29763a36",
   "metadata": {},
   "source": []
  },
  {
   "cell_type": "markdown",
   "id": "18d16612",
   "metadata": {},
   "source": [
    "## 2) Variables, tipos y operaciones\n",
    "Objetivo: repasar tipos de datos, conversiones y operaciones básicas."
   ]
  },
  {
   "cell_type": "markdown",
   "id": "3955c878",
   "metadata": {},
   "source": [
    "### **Ejercicio 2.1 — Tipos y conversiones**\n",
    "\n",
    "* Crea variables con tus datos personales: nombre, edad, ciudad.\n",
    "* Muestra el tipo de cada variable con type().\n",
    "* Convierte la edad a float.\n",
    "* Convierte la edad a str y concaténala con tu nombre en un print."
   ]
  },
  {
   "cell_type": "code",
   "execution_count": 10,
   "id": "4cd85dee",
   "metadata": {},
   "outputs": [
    {
     "name": "stdout",
     "output_type": "stream",
     "text": [
      "Oscar es del tipo: <class 'str'>\n",
      "20 es del tipo: <class 'int'>\n",
      "Mota del Cuervo es del tipo: <class 'str'>\n",
      "Edad convertida a: 20.0\n"
     ]
    }
   ],
   "source": [
    "nombre = \"Oscar\"\n",
    "edad = 20\n",
    "ciudad = \"Mota del Cuervo\"\n",
    "\n",
    "type(nombre)\n",
    "type(edad)\n",
    "type(ciudad)\n",
    "\n",
    "#Para reducir se puede hacer una lista\n",
    "datos = [nombre, edad, ciudad]\n",
    "\n",
    "#Muestro el valor dee cada dato y el tipo que es\n",
    "for element in datos:\n",
    "    print(f\"{element} es del tipo: {type(element)}\")\n",
    "\n",
    "#Covierto la edad en float y lo muestro directamente sin machacarlo\n",
    "print(f\"Edad convertida a: {float(edad)}\")\n",
    "    "
   ]
  },
  {
   "cell_type": "markdown",
   "id": "e7686d24",
   "metadata": {
    "jp-MarkdownHeadingCollapsed": true
   },
   "source": [
    "#### SOLUCION"
   ]
  },
  {
   "cell_type": "code",
   "execution_count": 6,
   "id": "941d99f8",
   "metadata": {},
   "outputs": [
    {
     "name": "stdout",
     "output_type": "stream",
     "text": [
      "María 28 Málaga\n",
      "28.0\n",
      "<class 'str'> <class 'float'> <class 'str'>\n",
      "María28.0\n"
     ]
    }
   ],
   "source": [
    "nombre = \"María\"\n",
    "edad = 28\n",
    "ciudad = \"Málaga\"\n",
    "\n",
    "print(nombre, edad, ciudad)\n",
    "edad = float(edad)\n",
    "print(edad)\n",
    "print(type(nombre), type(edad), type(ciudad))\n",
    "\n",
    "print(nombre + str(edad))\n"
   ]
  },
  {
   "cell_type": "code",
   "execution_count": 20,
   "id": "6e2b7ea1",
   "metadata": {},
   "outputs": [
    {
     "name": "stdout",
     "output_type": "stream",
     "text": [
      "Mi edad es 28\n",
      "20\n"
     ]
    }
   ],
   "source": [
    "# De número a cadena\n",
    "print(\"Mi edad es \" + str(edad))\n",
    "\n",
    "# De cadena a número\n",
    "num = int(\"10\")\n",
    "print(num * 2)"
   ]
  },
  {
   "cell_type": "code",
   "execution_count": null,
   "id": "2f168fc1",
   "metadata": {},
   "outputs": [],
   "source": []
  },
  {
   "cell_type": "markdown",
   "id": "6389743d",
   "metadata": {},
   "source": [
    "### **Ejercicio 2.2 — Operaciones aritméticas**\n",
    "\n",
    "* Define dos números enteros a y b.\n",
    "* Calcula su suma, resta, multiplicación, división y módulo (%).\n",
    "\n",
    "* Usa print(f\"...\") para mostrar frases con los resultados.\n",
    "\n",
    "**Bonus:** prueba // (división entera) y ** (potencias)."
   ]
  },
  {
   "cell_type": "code",
   "execution_count": 13,
   "id": "81f0402c",
   "metadata": {},
   "outputs": [
    {
     "name": "stdout",
     "output_type": "stream",
     "text": [
      "La suma de 5 y 10 es: 15\n",
      "La resta de 10 y 5 es: 5\n",
      "La multiplicación de 5 y 10 es: 50\n",
      "La división de 10 entre 5 es: 2.0\n",
      "El módulo de 10 entre 5 es: 0\n",
      "La división entera de 10 entre 5 es: 2\n",
      "5 elevado al cuadrado es: 25\n",
      "10 elevado al cuadrado es: 100\n"
     ]
    }
   ],
   "source": [
    "a = 5\n",
    "b = 10\n",
    "suma = a + b\n",
    "print(\"La suma de\", a, \"y\", b, \"es:\", suma)\n",
    "\n",
    "resta = b - a\n",
    "print(\"La resta de\", b, \"y\", a, \"es:\", resta)\n",
    "\n",
    "multiplicacion = a * b\n",
    "print(\"La multiplicación de\", a, \"y\", b, \"es:\", multiplicacion)\n",
    "\n",
    "division = b / a\n",
    "print(\"La división de\", b, \"entre\", a, \"es:\", division) \n",
    "\n",
    "#Devuelve el resto de la division\n",
    "modulo =b % a\n",
    "print(\"El módulo de\", b, \"entre\", a, \"es:\", modulo)\n",
    "\n",
    "division_entera = b // a\n",
    "print(\"La división entera de\", b, \"entre\", a, \"es:\", division_entera)\n",
    "\n",
    "potencia_a = a ** 2\n",
    "potencia_b = b ** 2\n",
    "\n",
    "print(a, \"elevado al cuadrado es:\", potencia_a)\n",
    "print(b, \"elevado al cuadrado es:\", potencia_b)\n"
   ]
  },
  {
   "cell_type": "markdown",
   "id": "6adaf272",
   "metadata": {
    "jp-MarkdownHeadingCollapsed": true
   },
   "source": [
    "#### SOLUCIÓN"
   ]
  },
  {
   "cell_type": "code",
   "execution_count": 22,
   "id": "e411a7c1",
   "metadata": {},
   "outputs": [
    {
     "name": "stdout",
     "output_type": "stream",
     "text": [
      "Suma: 17\n",
      "Resta: 7\n",
      "Multiplicación: 60\n",
      "División: 2.4\n",
      "División entera: 2\n",
      "Potencia: 248832\n",
      "Módulo: 2\n"
     ]
    }
   ],
   "source": [
    "a = 12\n",
    "b = 5\n",
    "\n",
    "print(f\"Suma: {a + b}\")\n",
    "print(f\"Resta: {a - b}\")\n",
    "print(f\"Multiplicación: {a * b}\")\n",
    "print(f\"División: {a / b}\")\n",
    "print(f\"División entera: {a // b}\")\n",
    "print(f\"Potencia: {a ** b}\")\n",
    "print(f\"Módulo: {a % b}\")\n"
   ]
  },
  {
   "cell_type": "markdown",
   "id": "35d89e0d",
   "metadata": {},
   "source": [
    "### **Ejercicio 2.3 — Métodos de cadenas**\n"
   ]
  },
  {
   "cell_type": "markdown",
   "id": "0541cb00",
   "metadata": {},
   "source": [
    "Dada la variable:\n"
   ]
  },
  {
   "cell_type": "code",
   "execution_count": 5,
   "id": "444a4c24",
   "metadata": {},
   "outputs": [],
   "source": [
    "mensaje = \"  hola mundo en python  \""
   ]
  },
  {
   "cell_type": "markdown",
   "id": "f7eeb78b",
   "metadata": {},
   "source": [
    "1. Convierte a mayúsculas.\n",
    "2. Quita los espacios laterales.\n",
    "3. Comprueba si empieza por \"hola\".\n",
    "4. Reemplaza \"python\" por \"Jupyter\".\n",
    "5. Divide la frase en palabras (split())."
   ]
  },
  {
   "cell_type": "code",
   "execution_count": 27,
   "id": "62230189",
   "metadata": {},
   "outputs": [
    {
     "name": "stdout",
     "output_type": "stream",
     "text": [
      "  HOLA MUNDO EN PYTHON  \n",
      "hola mundo en python\n",
      "True\n",
      "  hola mundo en jupyter  \n",
      "['hola', 'mundo', 'en', 'python']\n"
     ]
    }
   ],
   "source": [
    "mensaje = \"  hola mundo en python  \"\n",
    "print(mensaje.upper())\n",
    "# El strip funciona para quitar los espacios laterales y si pones l o r al principio para quitar los de la deracha o la izquierda\n",
    "print(mensaje.strip(\" \"))\n",
    "#Pongo el strip para que no cuente los espacios en blanco del principio\n",
    "print(mensaje.strip(\" \").startswith(\"hola\"))\n",
    "#El replace reemplaza\n",
    "print(mensaje.replace(\"python\",\"jupyter\"))\n",
    "#Primero elimina los espacios de los laterales y luego devuelve cada palabra en una lista que separa las palabras por los espacios de en medio\n",
    "print(mensaje.strip().split(\" \"))"
   ]
  },
  {
   "cell_type": "markdown",
   "id": "00349753",
   "metadata": {
    "jp-MarkdownHeadingCollapsed": true
   },
   "source": [
    "#### SOLUCION"
   ]
  },
  {
   "cell_type": "code",
   "execution_count": 7,
   "id": "466ece4b",
   "metadata": {},
   "outputs": [
    {
     "name": "stdout",
     "output_type": "stream",
     "text": [
      "Mayúsculas:   HOLA MUNDO EN PYTHON  \n",
      "Sin espacios: hola mundo en python\n",
      "Empieza por 'hola'? True\n",
      "Reemplazado:   hola mundo en Jupyter  \n",
      "Palabras: ['hola', 'mundo', 'en', 'python']\n"
     ]
    }
   ],
   "source": [
    "# Variable inicial\n",
    "mensaje = \"  hola mundo en python  \"\n",
    "\n",
    "# 1. Convierte a mayúsculas\n",
    "mayusculas = mensaje.upper()\n",
    "print(\"Mayúsculas:\", mayusculas)\n",
    "\n",
    "# 2. Quita los espacios laterales\n",
    "sin_espacios = mensaje.strip()\n",
    "print(\"Sin espacios:\", sin_espacios)\n",
    "\n",
    "# 3. Comprueba si empieza por \"hola\"\n",
    "empieza_hola = sin_espacios.startswith(\"hola\")\n",
    "print(\"Empieza por 'hola'?\", empieza_hola)\n",
    "\n",
    "# 4. Reemplaza \"python\" por \"Jupyter\"\n",
    "reemplazo = mensaje.replace(\"python\", \"Jupyter\")\n",
    "print(\"Reemplazado:\", reemplazo)\n",
    "\n",
    "# 5. Divide la frase en palabras\n",
    "palabras = mensaje.split()\n",
    "print(\"Palabras:\", palabras)\n"
   ]
  },
  {
   "cell_type": "markdown",
   "id": "b13f53ae",
   "metadata": {},
   "source": [
    "#### **Ejercicio 2.4 — Entrada de usuario y suma**\n",
    "\n",
    "* Pide al usuario que ingrese dos números usando input().\n",
    "* Convierte los valores a int.\n",
    "* Calcula la suma y muéstrala con un mensaje: \"La suma de X y Y es Z\"."
   ]
  },
  {
   "cell_type": "code",
   "execution_count": null,
   "id": "b915d0c9",
   "metadata": {},
   "outputs": [
    {
     "name": "stdout",
     "output_type": "stream",
     "text": [
      "La suma de los dos numeros es: 10\n"
     ]
    }
   ],
   "source": [
    "#Para controlar errores\n",
    "try:\n",
    "    input1_usuario = int(input(\"Introduce el primer numero: \"))\n",
    "    input2_usuario = int(input(\"Introduce el segundo numero: \"))\n",
    "    print(f\"La suma de los dos numeros es: {input1_usuario + input2_usuario}\")\n",
    "\n",
    "except Exception as e:\n",
    "    print(\"Ha ocurrido un error:\", e)"
   ]
  },
  {
   "cell_type": "markdown",
   "id": "d2d0c463",
   "metadata": {
    "jp-MarkdownHeadingCollapsed": true
   },
   "source": [
    "#### SOLUCIÓN"
   ]
  },
  {
   "cell_type": "code",
   "execution_count": 3,
   "id": "c0484309",
   "metadata": {},
   "outputs": [
    {
     "name": "stdout",
     "output_type": "stream",
     "text": [
      "La suma de 4 y 3 es 7\n"
     ]
    }
   ],
   "source": [
    "num1 = int(input(\"Introduce el primer número: \"))\n",
    "num2 = int(input(\"Introduce el segundo número: \"))\n",
    "\n",
    "print(f\"La suma de {num1} y {num2} es {num1 + num2}\")\n",
    "\n",
    "# se nos abre arriba "
   ]
  },
  {
   "cell_type": "markdown",
   "id": "81e91f6d",
   "metadata": {},
   "source": [
    "## 3) Cadenas de texto (30 min)\n",
    "\n",
    "### **Ejercicio 3.1 — Métodos útiles**\n",
    "\n",
    "**Objetivo:** practicar algunos métodos importantes de las *cadenas de texto (strings)*.\n",
    "\n",
    "1. Crea una variable llamada `mensaje` con el texto `\"  hola mundo en python  \"`.  \n",
    "2. Elimina los espacios que sobran al principio y al final del texto.  \n",
    "3. Convierte todo el texto a **mayúsculas**.  \n",
    "4. Comprueba si el texto contiene la palabra `\"python\"`.  \n",
    "5. Sustituye la palabra `\"python\"` por `\"Jupyter\"`.  \n",
    "6. Divide el texto en palabras (cada palabra como un elemento de una lista).  \n",
    "7. Muestra los resultados por pantalla en cada paso.\n",
    "\n"
   ]
  },
  {
   "cell_type": "code",
   "execution_count": null,
   "id": "8789e630",
   "metadata": {},
   "outputs": [],
   "source": [
    "# Variable inicial\n",
    "mensaje = \"  hola mundo en python  \"\n",
    "\n",
    "# 1. Convierte a mayúsculas\n",
    "mayusculas = mensaje.upper()\n",
    "print(\"Mayúsculas:\", mayusculas)\n",
    "\n",
    "# 2. Quita los espacios laterales\n",
    "sin_espacios = mensaje.strip()\n",
    "print(\"Sin espacios:\", sin_espacios)\n",
    "\n",
    "# 3. Comprueba si empieza por \"hola\"\n",
    "empieza_hola = sin_espacios.startswith(\"hola\")\n",
    "print(\"Empieza por 'hola'?\", empieza_hola)\n",
    "\n",
    "# 4. Reemplaza \"python\" por \"Jupyter\"\n",
    "reemplazo = mensaje.replace(\"python\", \"Jupyter\")\n",
    "print(\"Reemplazado:\", reemplazo)\n",
    "\n",
    "# 5. Divide la frase en palabras\n",
    "palabras = mensaje.split()\n",
    "print(\"Palabras:\", palabras)"
   ]
  },
  {
   "cell_type": "markdown",
   "id": "0eee827e",
   "metadata": {
    "jp-MarkdownHeadingCollapsed": true
   },
   "source": [
    "#### SOLUCION"
   ]
  },
  {
   "cell_type": "code",
   "execution_count": 25,
   "id": "4d3360f9",
   "metadata": {},
   "outputs": [
    {
     "name": "stdout",
     "output_type": "stream",
     "text": [
      "hola mundo en python\n",
      "  HOLA MUNDO EN PYTHON  \n",
      "True\n",
      "  hola mundo en Jupyter  \n",
      "['hola', 'mundo', 'en', 'python']\n"
     ]
    }
   ],
   "source": [
    "mensaje = \"  hola mundo en python  \"\n",
    "\n",
    "# 1. Eliminar espacios\n",
    "print(mensaje.strip())\n",
    "\n",
    "# 2. Mayúsculas\n",
    "print(mensaje.upper())\n",
    "\n",
    "# 3. Contiene \"python\"\n",
    "print(\"python\" in mensaje)\n",
    "\n",
    "# 4. Reemplazar\n",
    "print(mensaje.replace(\"python\", \"Jupyter\"))\n",
    "\n",
    "# 5. Dividir\n",
    "print(mensaje.split())\n"
   ]
  },
  {
   "cell_type": "markdown",
   "id": "7e22065c",
   "metadata": {},
   "source": [
    "### **Ejercicio 3.2 — Formateo de cadenas**\n",
    "\n",
    "**Objetivo:** aprender diferentes formas de insertar variables dentro de un texto.\n",
    "\n",
    "1. Crea dos variables:  \n",
    "   - `nombre` con tu nombre.  \n",
    "   - `edad` con tu edad.  \n",
    "2. Muestra un mensaje que diga:  \n",
    "   `\"Hola, me llamo [tu nombre] y tengo [tu edad] años.\"`\n",
    "3. Hazlo de tres maneras distintas:\n",
    "   - Usando **concatenación** con `+`.\n",
    "   - Usando el método **`.format()`**.  \n",
    "   - Usando una **f-string** (f\"…\").\n"
   ]
  },
  {
   "cell_type": "code",
   "execution_count": 33,
   "id": "3e1c2124",
   "metadata": {},
   "outputs": [
    {
     "name": "stdout",
     "output_type": "stream",
     "text": [
      "Hola, me llamo Oscar y tengo 20 años\n",
      "Hola, me llamo Oscar y tengo 20 años\n",
      "Hola, me llamo Oscar y tengo 20 años\n"
     ]
    }
   ],
   "source": [
    "nombre = \"Oscar\"\n",
    "edad = 20\n",
    "\n",
    "mensaje= \"Hola, me llamo \"+ nombre + \" y tengo \"+ str(edad) +\" años\"\n",
    "print(mensaje)\n",
    "\n",
    "print(f\"Hola, me llamo {nombre} y tengo {edad} años\")\n",
    "\n",
    "print(\"Hola, me llamo {} y tengo {} años\".format(nombre, edad))"
   ]
  },
  {
   "cell_type": "markdown",
   "id": "fa470450",
   "metadata": {
    "jp-MarkdownHeadingCollapsed": true
   },
   "source": [
    "#### SOLUCIÓN"
   ]
  },
  {
   "cell_type": "code",
   "execution_count": 26,
   "id": "18498fac",
   "metadata": {},
   "outputs": [
    {
     "name": "stdout",
     "output_type": "stream",
     "text": [
      "Hola, me llamo Carlos\n",
      "Hola, me llamo Carlos y tengo 30 años\n",
      "Hola, me llamo Carlos y tengo 30 años\n"
     ]
    }
   ],
   "source": [
    "nombre = \"Carlos\"\n",
    "edad = 30\n",
    "\n",
    "# Concatenación\n",
    "print(\"Hola, me llamo \" + nombre)\n",
    "\n",
    "# format()\n",
    "print(\"Hola, me llamo {} y tengo {} años\".format(nombre, edad))\n",
    "\n",
    "# f-string\n",
    "print(f\"Hola, me llamo {nombre} y tengo {edad} años\")\n"
   ]
  },
  {
   "cell_type": "markdown",
   "id": "376dedc9",
   "metadata": {},
   "source": []
  },
  {
   "cell_type": "markdown",
   "id": "69e08c84",
   "metadata": {},
   "source": [
    "## 4) Final\n",
    "\n",
    "### Ejercicio 4.1 — Formateo de cadenas y uso de int\n",
    "\n",
    "**Objetivo:** usar diferentes maneras de insertar variables en texto.\n",
    "\n",
    "1. Crea dos variables:  \n",
    "   - `producto = \"libro\"`  \n",
    "   - `precio = 12.5`  \n",
    "2. Muestra el mensaje de tres formas:  \n",
    "   - Usando **concatenación**  \n",
    "   - Usando `.format()`  \n",
    "   - Usando una **f-string**\n"
   ]
  },
  {
   "cell_type": "code",
   "execution_count": null,
   "id": "945d03ef",
   "metadata": {},
   "outputs": [],
   "source": []
  },
  {
   "cell_type": "markdown",
   "id": "896c5347",
   "metadata": {
    "jp-MarkdownHeadingCollapsed": true
   },
   "source": [
    "#### SOLUCION"
   ]
  },
  {
   "cell_type": "code",
   "execution_count": 30,
   "id": "c1d65957",
   "metadata": {},
   "outputs": [
    {
     "name": "stdout",
     "output_type": "stream",
     "text": [
      "El producto es un libro y cuesta 12.5 euros.\n",
      "El producto es un libro y cuesta 12.5 euros.\n",
      "El producto es un libro y cuesta 12.5 euros.\n"
     ]
    }
   ],
   "source": [
    "producto = \"libro\"\n",
    "precio = 12.5\n",
    "\n",
    "# Concatenación\n",
    "print(\"El producto es un \" + producto + \" y cuesta \" + str(precio) + \" euros.\")\n",
    "\n",
    "# format()\n",
    "print(\"El producto es un {} y cuesta {} euros.\".format(producto, precio))\n",
    "\n",
    "# f-string\n",
    "print(f\"El producto es un {producto} y cuesta {precio} euros.\")\n",
    "\n"
   ]
  },
  {
   "cell_type": "markdown",
   "id": "b0db8c57",
   "metadata": {},
   "source": [
    "### Ejercicio 4.2 — Combinación de variables"
   ]
  },
  {
   "cell_type": "markdown",
   "id": "d5b9bfec",
   "metadata": {},
   "source": [
    "**Objetivo:** combinar variables, operaciones y texto.\n",
    "\n",
    "1. Crea tres variables:  \n",
    "   - `producto` → por ejemplo `\"libro\"`  \n",
    "   - `precio` → por ejemplo `12.5`  \n",
    "   - `cantidad` → por ejemplo `3`  \n",
    "2. Calcula el total.  \n",
    "3. Crea una frase que diga:  \n",
    "   `\"Has comprado 3 libros por un total de 37.5 euros.\"`  \n",
    "4. Muestra la frase normal y en mayúsculas."
   ]
  },
  {
   "cell_type": "code",
   "execution_count": 38,
   "id": "391d331b",
   "metadata": {},
   "outputs": [
    {
     "name": "stdout",
     "output_type": "stream",
     "text": [
      "Has comprado 3 libros gastandote un total de  37.5€\n",
      "HAS COMPRADO 3 LIBROS GASTANDOTE UN TOTAL DE  37.5€\n"
     ]
    }
   ],
   "source": [
    "producto = \"libro\"\n",
    "precio = 12.5\n",
    "cantidad = 3\n",
    "total = precio * cantidad\n",
    "\n",
    "mensaje=f\"Has comprado {cantidad} {producto}s gastandote un total de  {total}€\" \n",
    "print(mensaje)\n",
    "print(mensaje.upper())"
   ]
  },
  {
   "cell_type": "markdown",
   "id": "ecff5412",
   "metadata": {
    "jp-MarkdownHeadingCollapsed": true
   },
   "source": [
    "#### SOLUCION"
   ]
  },
  {
   "cell_type": "code",
   "execution_count": 31,
   "id": "f4a9d415",
   "metadata": {},
   "outputs": [
    {
     "name": "stdout",
     "output_type": "stream",
     "text": [
      "Has comprado 3 libros por un total de 37.5 euros.\n",
      "HAS COMPRADO 3 LIBROS POR UN TOTAL DE 37.5 EUROS.\n"
     ]
    }
   ],
   "source": [
    "producto = \"libro\"\n",
    "precio = 12.5\n",
    "cantidad = 3\n",
    "\n",
    "total = precio * cantidad\n",
    "ticket = f\"Has comprado {cantidad} {producto}s por un total de {total} euros.\"\n",
    "\n",
    "print(ticket)\n",
    "print(ticket.upper())\n"
   ]
  },
  {
   "cell_type": "markdown",
   "id": "93de8b13",
   "metadata": {},
   "source": [
    "### Ejercicio 5.7 — Temperatura\n",
    "\n",
    "Objetivo: practicar operaciones y redondeo.\n",
    "\n",
    "* Crea una variable celsius = 23.\n",
    "* Calcula la temperatura en Fahrenheit: F = C * 9/5 + 32.\n",
    "* Muestra un mensaje:\n",
    "\"23 grados Celsius son 73.4 grados Fahrenheit.\"\n",
    "* Redondea a 1 decimal."
   ]
  },
  {
   "cell_type": "code",
   "execution_count": 39,
   "id": "3a8c916f",
   "metadata": {},
   "outputs": [
    {
     "name": "stdout",
     "output_type": "stream",
     "text": [
      "23°C son 73.4°F\n"
     ]
    }
   ],
   "source": [
    "grados_celsius = 23\n",
    "temperatura_convertida = (grados_celsius * 9/5) + 32\n",
    "print(f\"{grados_celsius}°C son {temperatura_convertida}°F\")"
   ]
  },
  {
   "cell_type": "markdown",
   "id": "972aed59",
   "metadata": {},
   "source": [
    "#### SOLUCION"
   ]
  },
  {
   "cell_type": "code",
   "execution_count": 7,
   "id": "ed9e2605",
   "metadata": {},
   "outputs": [
    {
     "name": "stdout",
     "output_type": "stream",
     "text": [
      "23 grados Celsius son 73.4 grados Fahrenheit.\n"
     ]
    }
   ],
   "source": [
    "celsius = 23\n",
    "fahrenheit = celsius * 9/5 + 32\n",
    "\n",
    "print(f\"{celsius} grados Celsius son {round(fahrenheit,1)} grados Fahrenheit.\")\n"
   ]
  },
  {
   "cell_type": "markdown",
   "id": "8922bab6",
   "metadata": {},
   "source": [
    "### Ejercicio 5.8 — Promedio de notas\n",
    "\n",
    "Objetivo: operaciones con varios números.\n",
    "\n",
    "Crea variables nota1 = 7.5, nota2 = 8.0, nota3 = 9.0.\n",
    "\n",
    "Calcula el promedio.\n",
    "\n",
    "Muestra un mensaje: \"El promedio de las notas es 8.17.\" (redondea a 2 decimales)\n"
   ]
  },
  {
   "cell_type": "code",
   "execution_count": 44,
   "id": "a98f1092",
   "metadata": {},
   "outputs": [
    {
     "name": "stdout",
     "output_type": "stream",
     "text": [
      "El promedio de las notas es: 8.17\n"
     ]
    }
   ],
   "source": [
    "nota_1= 8\n",
    "nota_2= 7.5\n",
    "nota_3= 9\n",
    "\n",
    "promedio = (nota_1 + nota_2 + nota_3) / 3\n",
    "print(f\"El promedio de las notas es: {round(promedio,2)}\")"
   ]
  },
  {
   "cell_type": "markdown",
   "id": "88b8001c-9c98-4a8f-bc34-de9a65601141",
   "metadata": {
    "jp-MarkdownHeadingCollapsed": true
   },
   "source": [
    "### SOLUCIÓN"
   ]
  },
  {
   "cell_type": "code",
   "execution_count": null,
   "id": "17765155",
   "metadata": {},
   "outputs": [],
   "source": [
    "nota1 = 7.5\n",
    "nota2 = 8.0\n",
    "nota3 = 9.0\n",
    "\n",
    "promedio = (nota1 + nota2 + nota3)/3\n",
    "print(f\"El promedio de las notas es {round(promedio,2)}.\""
   ]
  },
  {
   "cell_type": "markdown",
   "id": "448acdfa-27b8-44a6-9e31-ab82dbccfcf1",
   "metadata": {},
   "source": [
    "## 6) Mini proyecto: Automatización con Bash y Python\n",
    "\n",
    "Objetivo: practicar comandos básicos de bash junto con scripts en Python para gestionar datos y archivos.\n",
    "\n",
    "Recomendable tenerlo en un archivo .sh y hacer bash archivo.sh"
   ]
  },
  {
   "cell_type": "markdown",
   "id": "db5e7fc2-cf97-4988-948d-37a09cdf5164",
   "metadata": {},
   "source": [
    "- Abre una terminal dentro de tu carpeta de proyecto.\n",
    "- Crea una nueva carpeta para datos llamada data\n",
    "- Entra dentro de ella\n",
    "- Crea también una carpeta vacía para resultados /resultados\n",
    "- Comprueba que las carpetas existen"
   ]
  },
  {
   "cell_type": "markdown",
   "id": "7e730655-d71a-4fe3-aebf-dadc4fd750d1",
   "metadata": {},
   "source": [
    "**Ejercicio 6.2 — Descargar un archivo CSV desde la web**\n",
    "\n",
    "Dentro de la carpeta data, descarga un conjunto de datos público.\n",
    "\n",
    "Por ejemplo, un CSV datos metereológicos:\n",
    "curl -O https://raw.githubusercontent.com/plotly/datasets/refs/heads/master/2016-weather-data-seattle.csv"
   ]
  },
  {
   "cell_type": "code",
   "execution_count": 17,
   "id": "274e2914-ab0d-4c35-b261-15d78b66e23d",
   "metadata": {},
   "outputs": [
    {
     "name": "stderr",
     "output_type": "stream",
     "text": [
      "  % Total    % Received % Xferd  Average Speed   Time    Time     Time  Current\n",
      "                                 Dload  Upload   Total   Spent    Left  Speed\n",
      "\n",
      "  0     0    0     0    0     0      0      0 --:--:-- --:--:-- --:--:--     0\n",
      "100  445k  100  445k    0     0   720k      0 --:--:-- --:--:-- --:--:--  721k\n"
     ]
    }
   ],
   "source": [
    "# https://github.com/plotly/datasets\n",
    "!curl https://raw.githubusercontent.com/plotly/datasets/refs/heads/master/2016-weather-data-seattle.csv > data3.csv "
   ]
  },
  {
   "cell_type": "code",
   "execution_count": 18,
   "id": "e76a67e4-a75a-4859-8125-36b88a298ba6",
   "metadata": {},
   "outputs": [],
   "source": [
    "!rm data3.csv"
   ]
  },
  {
   "cell_type": "markdown",
   "id": "e9546396-5657-44bd-bc9c-473188462403",
   "metadata": {},
   "source": [
    "### Ejercicio 6.4 — Crear un script Python para verificar el archivo\n",
    "\n",
    "- Vuelve a la raíz del proyecto (cd ..).\n",
    "- Crea un archivo check_data.py y escribe lo siguiente:\n"
   ]
  },
  {
   "cell_type": "code",
   "execution_count": 45,
   "id": "793922db-3744-42e3-98b6-8393211deae9",
   "metadata": {},
   "outputs": [
    {
     "name": "stdout",
     "output_type": "stream",
     "text": [
      "Archivo localizado correctamente.\n"
     ]
    }
   ],
   "source": [
    "import os\n",
    "\n",
    "ruta = \"data/data3.csv\"\n",
    "\n",
    "if os.path.exists(ruta):\n",
    "    print(\"Archivo localizado correctamente.\")\n",
    "else:\n",
    "    print(\"No se encontró el archivo.\")"
   ]
  },
  {
   "cell_type": "markdown",
   "id": "75adda0d-9f6e-4e61-95c1-458683dfdb1f",
   "metadata": {},
   "source": [
    "- Ejecutalo"
   ]
  },
  {
   "cell_type": "markdown",
   "id": "ee38ba6e-d20b-494f-86c0-081dac8a9102",
   "metadata": {},
   "source": []
  }
 ],
 "metadata": {
  "kernelspec": {
   "display_name": "Python 3",
   "language": "python",
   "name": "python3"
  },
  "language_info": {
   "codemirror_mode": {
    "name": "ipython",
    "version": 3
   },
   "file_extension": ".py",
   "mimetype": "text/x-python",
   "name": "python",
   "nbconvert_exporter": "python",
   "pygments_lexer": "ipython3",
   "version": "3.14.0"
  }
 },
 "nbformat": 4,
 "nbformat_minor": 5
}
